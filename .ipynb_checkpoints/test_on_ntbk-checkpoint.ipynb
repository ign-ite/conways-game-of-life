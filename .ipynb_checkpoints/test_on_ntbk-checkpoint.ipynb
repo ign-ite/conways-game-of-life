{
 "cells": [
  {
   "cell_type": "code",
   "execution_count": 6,
   "id": "157dde72-fb5b-4572-8284-cd7cfc35cda8",
   "metadata": {},
   "source": [
    "import numpy as np\n",
    "import matplotlib.pyplot as plt\n",
    "import matplotlib.animation as animation\n",
    "\n",
    "def update_board(board):\n",
    "    \"\"\"Updates the board to the next generation.\"\"\"\n",
    "    new_board = np.zeros(board.shape, dtype=int)\n",
    "    for i in range(board.shape[0]):\n",
    "        for j in range(board.shape[1]):\n",
    "            # Count the number of alive neighbors\n",
    "            num_alive_neighbors = np.sum(board[i-1:i+2, j-1:j+2]) - board[i, j]\n",
    "            # Apply the rules of the Game of Life\n",
    "            if board[i, j] == 1 and (num_alive_neighbors == 2 or num_alive_neighbors == 3):\n",
    "                new_board[i, j] = 1\n",
    "            elif board[i, j] == 0 and num_alive_neighbors == 3:\n",
    "                new_board[i, j] = 1\n",
    "    return new_board\n",
    "\n",
    "def animate(i, img, board):\n",
    "    \"\"\"Updates the animation frame.\"\"\"\n",
    "    new_board = update_board(board)\n",
    "    img.set_data(new_board)  # Use set_data here as img is an AxesImage object\n",
    "    board[:] = new_board[:]\n",
    "    return img,\n",
    "\n",
    "def main():\n",
    "    # Board size\n",
    "    rows, cols = 50, 50\n",
    "    # Create a random initial board\n",
    "    board = np.random.choice([0, 1], size=(rows, cols))\n",
    "    \n",
    "    # Set up the plot\n",
    "    fig, ax = plt.subplots()\n",
    "    img = ax.imshow(board, cmap='binary', interpolation='nearest')  # Ensure img is an AxesImage object\n",
    "\n",
    "    ani = animation.FuncAnimation(fig, animate, fargs=(img, board), frames=100, interval=100)\n",
    "\n",
    "    plt.show()\n",
    "\n",
    "if __name__ == \"__main__\":\n",
    "    main()\n"
   ],
   "outputs": []
  }
 ],
 "metadata": {
  "kernelspec": {
   "display_name": "Python 3 (ipykernel)",
   "language": "python",
   "name": "python3"
  },
  "language_info": {
   "codemirror_mode": {
    "name": "ipython",
    "version": 3
   },
   "file_extension": ".py",
   "mimetype": "text/x-python",
   "name": "python",
   "nbconvert_exporter": "python",
   "pygments_lexer": "ipython3",
   "version": "3.11.7"
  }
 },
 "nbformat": 4,
 "nbformat_minor": 5
}
